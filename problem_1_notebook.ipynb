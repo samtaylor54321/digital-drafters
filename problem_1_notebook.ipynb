{
  "nbformat": 4,
  "nbformat_minor": 0,
  "metadata": {
    "colab": {
      "provenance": [],
      "authorship_tag": "ABX9TyP8fhAePL74h7e80lTQXBKz",
      "include_colab_link": true
    },
    "kernelspec": {
      "name": "python3",
      "display_name": "Python 3"
    },
    "language_info": {
      "name": "python"
    }
  },
  "cells": [
    {
      "cell_type": "markdown",
      "metadata": {
        "id": "view-in-github",
        "colab_type": "text"
      },
      "source": [
        "<a href=\"https://colab.research.google.com/github/samtaylor54321/digital-drafters/blob/main/problem_1_notebook.ipynb\" target=\"_parent\"><img src=\"https://colab.research.google.com/assets/colab-badge.svg\" alt=\"Open In Colab\"/></a>"
      ]
    },
    {
      "cell_type": "markdown",
      "source": [
        "## Setting up"
      ],
      "metadata": {
        "id": "f0YK3hMDGumd"
      }
    },
    {
      "cell_type": "code",
      "execution_count": null,
      "metadata": {
        "id": "FWd8GrN-3PX0"
      },
      "outputs": [],
      "source": [
        "import json\n",
        "import requests\n",
        "from anthropic import Anthropic\n",
        "from google.colab import userdata\n",
        "from bs4 import BeautifulSoup\n",
        "\n",
        "client = Anthropic(\n",
        "    api_key = userdata.get('anthropic_api') # this is my colab setup: update to relevant key location\n",
        ")"
      ]
    },
    {
      "cell_type": "markdown",
      "source": [
        "## User input\n",
        "\n",
        "Provide legislation URL and furthest section to parse. Also a space to customise the prompt."
      ],
      "metadata": {
        "id": "u_AzQPExVzbt"
      }
    },
    {
      "cell_type": "code",
      "source": [
        "url = \"https://www.legislation.gov.uk/ukpga/1968/60/data.xml\"\n",
        "sections = 5\n",
        "prompt = \"Please summarise the following text so it's understandable for a policy expert who is not a legal expert. In your output, only include the summary. Do not include an acknowledgement of this prompt:\\n\""
      ],
      "metadata": {
        "id": "SqoLr_7RF-p8"
      },
      "execution_count": null,
      "outputs": []
    },
    {
      "cell_type": "markdown",
      "source": [
        "## Processing\n",
        "\n",
        "Get contents"
      ],
      "metadata": {
        "id": "DadXEXZxWIyZ"
      }
    },
    {
      "cell_type": "code",
      "source": [
        "response = requests.get(url)\n",
        "\n",
        "soup = BeautifulSoup(response.text, 'xml')\n",
        "\n",
        "if response.ok:\n",
        "    print(\"Successfully retrieved the following:\")\n",
        "    print(soup.title.string)"
      ],
      "metadata": {
        "colab": {
          "base_uri": "https://localhost:8080/"
        },
        "id": "A2wP_VpbV828",
        "outputId": "b9425bf0-d39b-4e99-8367-d0078a22c4a6"
      },
      "execution_count": null,
      "outputs": [
        {
          "output_type": "stream",
          "name": "stdout",
          "text": [
            "Successfully retrieved the following:\n",
            "Theft Act 1968\n"
          ]
        }
      ]
    },
    {
      "cell_type": "markdown",
      "source": [
        "Split into sections and get up to the highest section"
      ],
      "metadata": {
        "id": "-NTor332WPqi"
      }
    },
    {
      "cell_type": "code",
      "source": [
        "section_ids = [section.P1.get(\"id\") for section in soup.find_all(\"P1group\")]\n",
        "section_ids = [section for section in section_ids[0:sections] if section is not None]"
      ],
      "metadata": {
        "id": "7h6ni3adLjLt"
      },
      "execution_count": null,
      "outputs": []
    },
    {
      "cell_type": "markdown",
      "source": [
        "Call API for several sections and store output in nested dictionary with a field for original text and for explanatory text"
      ],
      "metadata": {
        "id": "Tif5XeF0knr0"
      }
    },
    {
      "cell_type": "code",
      "source": [
        "nested_output = {}\n",
        "\n",
        "for i in range(sections):\n",
        "  original_text = soup.find(id=section_ids[i]).get_text(\" \")\n",
        "  prompt_text = f\"{prompt}{original_text}\"\n",
        "\n",
        "  message = client.messages.create(\n",
        "    max_tokens=1024,\n",
        "    messages=[\n",
        "        {\n",
        "            \"role\": \"user\",\n",
        "            \"content\": prompt_text,\n",
        "        }\n",
        "    ],\n",
        "    model=\"claude-3-haiku-20240307\",\n",
        "  )\n",
        "\n",
        "  out_text = message.to_dict()['content'][0].get('text', '')\n",
        "\n",
        "  nested_output[i] = {\n",
        "      'original': original_text,\n",
        "      'explanation': out_text\n",
        "  }\n",
        "\n"
      ],
      "metadata": {
        "id": "qH4kLv2RiSqG"
      },
      "execution_count": null,
      "outputs": []
    },
    {
      "cell_type": "code",
      "source": [
        "# store output\n",
        "with open('output_problem1.txt', 'w') as file:\n",
        "     file.write(json.dumps(nested_output))"
      ],
      "metadata": {
        "id": "toUUXnpRjGez"
      },
      "execution_count": null,
      "outputs": []
    }
  ]
}